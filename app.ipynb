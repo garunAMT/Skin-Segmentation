{
 "cells": [
  {
   "cell_type": "code",
   "execution_count": 1,
   "id": "865721f1",
   "metadata": {},
   "outputs": [],
   "source": [
    "# Install OpenCV (headless build, no GUI)\n",
    "!pip install --quiet opencv-python-headless"
   ]
  },
  {
   "cell_type": "code",
   "execution_count": 5,
   "id": "1fc73760",
   "metadata": {},
   "outputs": [],
   "source": [
    "\n",
    "import cv2\n",
    "import numpy as np\n",
    "import os"
   ]
  },
  {
   "cell_type": "code",
   "execution_count": 6,
   "id": "e2fcf2fa",
   "metadata": {},
   "outputs": [],
   "source": [
    "class SkinColorModel:\n",
    "    def __init__(self, bins=32):\n",
    "        self.bins = bins\n",
    "        self.skin_hist = np.zeros((bins, bins, bins), dtype=np.float64)\n",
    "        self.non_skin_hist = np.zeros((bins, bins, bins), dtype=np.float64)\n",
    "        self.bin_size = 256 // bins\n",
    "        self.skin_count = 0\n",
    "        self.non_skin_count = 0\n",
    "\n",
    "    def add_skin_sample(self, image):\n",
    "        for pixel in image.reshape(-1, 3):\n",
    "            if not np.array_equal(pixel, [255, 255, 255]):\n",
    "                r, g, b = pixel\n",
    "                r_bin, g_bin, b_bin = r // self.bin_size, g // self.bin_size, b // self.bin_size\n",
    "                self.skin_hist[r_bin, g_bin, b_bin] += 1\n",
    "                self.skin_count += 1\n",
    "\n",
    "    def add_non_skin_sample(self, image):\n",
    "        for pixel in image.reshape(-1, 3):\n",
    "            r, g, b = pixel\n",
    "            r_bin, g_bin, b_bin = r // self.bin_size, g // self.bin_size, b // self.bin_size\n",
    "            self.non_skin_hist[r_bin, g_bin, b_bin] += 1\n",
    "            self.non_skin_count += 1\n",
    "\n",
    "    def compute_probabilities(self):\n",
    "        epsilon = 1e-10\n",
    "        self.skin_prob = self.skin_hist / (self.skin_count + epsilon)\n",
    "        self.non_skin_prob = self.non_skin_hist / (self.non_skin_count + epsilon)\n",
    "\n",
    "    def classify_image(self, image, threshold=1.0):\n",
    "        h, w, _ = image.shape\n",
    "        output = np.ones_like(image) * 255\n",
    "\n",
    "        for i in range(h):\n",
    "            for j in range(w):\n",
    "                r, g, b = image[i, j]\n",
    "                r_bin, g_bin, b_bin = r // self.bin_size, g // self.bin_size, b // self.bin_size\n",
    "                skin_p = self.skin_prob[r_bin, g_bin, b_bin]\n",
    "                non_skin_p = self.non_skin_prob[r_bin, g_bin, b_bin]\n",
    "                ratio = skin_p / (non_skin_p + 1e-10)\n",
    "\n",
    "                if ratio > threshold:\n",
    "                    output[i, j] = image[i, j]\n",
    "\n",
    "        return output\n"
   ]
  },
  {
   "cell_type": "code",
   "execution_count": 7,
   "id": "8e1789c6",
   "metadata": {},
   "outputs": [],
   "source": [
    "def load_images_from_dir(directory):\n",
    "    return [\n",
    "        os.path.join(directory, f)\n",
    "        for f in os.listdir(directory)\n",
    "        if f.lower().endswith(('.png', '.jpg', '.jpeg'))\n",
    "    ]\n"
   ]
  },
  {
   "cell_type": "code",
   "execution_count": 8,
   "id": "ee84714c",
   "metadata": {},
   "outputs": [
    {
     "name": "stdout",
     "output_type": "stream",
     "text": [
      "[INFO] Loading training images...\n",
      "[INFO] Computing probability histograms...\n",
      "[INFO] Processing test images...\n",
      "[INFO] Saved result: results\\result_test1.jpg\n",
      "[INFO] Saved result: results\\result_test2.jpg\n",
      "[INFO] Skin detection complete.\n"
     ]
    }
   ],
   "source": [
    "def main():\n",
    "    bins = 32\n",
    "    threshold = 1.0\n",
    "    model = SkinColorModel(bins)\n",
    "\n",
    "    # === Setup paths ===\n",
    "    train_dir = \"train_skin\"         # 3 images with skin pixels only (rest white)\n",
    "    test_dir = \"test\"                # 2 original test images\n",
    "    output_dir = \"results\"           # Save results here\n",
    "\n",
    "    if not os.path.exists(output_dir):\n",
    "        os.makedirs(output_dir)\n",
    "\n",
    "    print(\"[INFO] Loading training images...\")\n",
    "    train_images = load_images_from_dir(train_dir)\n",
    "\n",
    "    for img_path in train_images:\n",
    "        img = cv2.imread(img_path)\n",
    "        if img is None:\n",
    "            print(f\"[WARNING] Could not read image: {img_path}\")\n",
    "            continue\n",
    "\n",
    "        img_rgb = cv2.cvtColor(img, cv2.COLOR_BGR2RGB)\n",
    "        model.add_skin_sample(img_rgb)\n",
    "\n",
    "        # Create non-skin version by extracting only white regions\n",
    "        mask = np.all(img_rgb == [255, 255, 255], axis=-1)      # shape (H, W)\n",
    "        mask_3d = np.stack([mask] * 3, axis=-1)                 # shape (H, W, 3)\n",
    "        non_skin_only = np.where(mask_3d, img_rgb, [255, 255, 255])  # keep only white pixels\n",
    "\n",
    "        model.add_non_skin_sample(non_skin_only)\n",
    "\n",
    "    print(\"[INFO] Computing probability histograms...\")\n",
    "    model.compute_probabilities()\n",
    "\n",
    "    print(\"[INFO] Processing test images...\")\n",
    "    test_images = load_images_from_dir(test_dir)\n",
    "\n",
    "    for img_path in test_images:\n",
    "        filename = os.path.basename(img_path)\n",
    "        img = cv2.imread(img_path)\n",
    "        if img is None:\n",
    "            print(f\"[WARNING] Could not read image: {img_path}\")\n",
    "            continue\n",
    "\n",
    "        img_rgb = cv2.cvtColor(img, cv2.COLOR_BGR2RGB)\n",
    "        output_img = model.classify_image(img_rgb, threshold)\n",
    "        result_bgr = cv2.cvtColor(output_img, cv2.COLOR_RGB2BGR)\n",
    "\n",
    "        save_path = os.path.join(output_dir, f\"result_{filename}\")\n",
    "        cv2.imwrite(save_path, result_bgr)\n",
    "        print(f\"[INFO] Saved result: {save_path}\")\n",
    "\n",
    "    print(\"[INFO] Skin detection complete.\")\n",
    "\n",
    "if __name__ == \"__main__\":\n",
    "    main()\n"
   ]
  }
 ],
 "metadata": {
  "kernelspec": {
   "display_name": "cv_a2",
   "language": "python",
   "name": "python3"
  },
  "language_info": {
   "codemirror_mode": {
    "name": "ipython",
    "version": 3
   },
   "file_extension": ".py",
   "mimetype": "text/x-python",
   "name": "python",
   "nbconvert_exporter": "python",
   "pygments_lexer": "ipython3",
   "version": "3.10.4"
  }
 },
 "nbformat": 4,
 "nbformat_minor": 5
}
